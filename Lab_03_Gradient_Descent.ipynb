{
  "cells": [
    {
      "cell_type": "markdown",
      "metadata": {
        "id": "view-in-github",
        "colab_type": "text"
      },
      "source": [
        "<a href=\"https://colab.research.google.com/github/s34836/WUM/blob/main/Lab_03_Gradient_Descent.ipynb\" target=\"_parent\"><img src=\"https://colab.research.google.com/assets/colab-badge.svg\" alt=\"Open In Colab\"/></a>"
      ]
    },
    {
      "cell_type": "markdown",
      "metadata": {
        "id": "p09ZMJ-v3njc"
      },
      "source": [
        "# Lab 03 - Gradient Descent\n",
        "\n",
        "## Task 1\n",
        "\n",
        "Determine the derivative of the function $f(\\mathbf{x})=2x_1^2-4x_1 + x_2^2 - x_2 + 2x_3^2 + 4$, then perform one step of gradient descent starting with $\\mathbf{x_0}=(0, 1, 2)$.\n",
        "\n",
        "$$ \\mathbf{x}_n = \\mathbf{x}_{n-1} - \\alpha \\nabla f(\\mathbf{x_{n-1}}) $$\n",
        "\n",
        "Przyjmij $\\alpha = 0.2$."
      ]
    },
    {
      "cell_type": "markdown",
      "metadata": {
        "id": "P6pMmr3m3njd"
      },
      "source": [
        "## Task 2\n",
        "\n",
        "Tensorflow has built in automatic differentiation capability, which we can use to calculate the gradients for arbitrarily complex operations\n"
      ]
    },
    {
      "cell_type": "code",
      "execution_count": null,
      "metadata": {
        "id": "ZDwz-2QM3njd",
        "outputId": "b22e4790-5ca3-466d-c0c8-8317e804bb93"
      },
      "outputs": [
        {
          "name": "stdout",
          "output_type": "stream",
          "text": [
            "15.0 4.0\n"
          ]
        }
      ],
      "source": [
        "import tensorflow as tf\n",
        "\n",
        "def f(x1, x2):\n",
        "    return 2. * tf.square(x1) + 3. * x1 + 4. * x2 + 5.\n",
        "\n",
        "x1 = tf.Variable(3.)\n",
        "x2 = tf.Variable(4.)\n",
        "\n",
        "with tf.GradientTape() as tape:\n",
        "    y = f(x1, x2)\n",
        "\n",
        "dy_dx1, dy_dx2 = tape.gradient(y, [x1, x2])\n",
        "print(float(dy_dx1), float(dy_dx2))"
      ]
    },
    {
      "cell_type": "markdown",
      "metadata": {
        "id": "lWQKZi8p3nje"
      },
      "source": [
        "Apply the chain rule to determine $\\frac{\\partial y}{\\partial x_1}$ and $\\frac{\\partial y}{\\partial x_2}$ for:\n",
        "1. $y = \\sigma(f(x_1, x_2))$, where $f(x_1, x_2)= 2 x_1 + 3 x_2$ i $\\sigma(x)=\\frac{e^x}{1 + e^x}$,\n",
        "2. $y = g(f(x_1, x_2))$, where $f(x_1, x_2)= x_1^2 + 2 x_2$ i $g(x)=\\sin x$.\n",
        "\n",
        "Next, calculate the derivatives using `GradientTape` and compare the results."
      ]
    },
    {
      "cell_type": "code",
      "execution_count": 1,
      "metadata": {
        "colab": {
          "base_uri": "https://localhost:8080/"
        },
        "id": "DQPerGHA3nje",
        "outputId": "09223485-0bfb-4f6f-b854-d6a81db3ca2b"
      },
      "outputs": [
        {
          "output_type": "stream",
          "name": "stdout",
          "text": [
            "(0.3932238817214966, 0.5898358821868896)\n",
            "(0.3932238817214966, 0.5898358225822449)\n"
          ]
        }
      ],
      "source": [
        "import tensorflow as tf\n",
        "import numpy as np\n",
        "def sigma(x):\n",
        "    return 1. / (1. + tf.exp(-x))\n",
        "\n",
        "def f(x1, x2):\n",
        "    return 2. * x1 + 3. * x2\n",
        "\n",
        "def F(x1, x2):\n",
        "    return sigma(f(x1, x2))\n",
        "\n",
        "def F_prime(x1, x2):\n",
        "    dy_dx1 = 2. * sigma(f(x1, x2)) * (1 - sigma(f(x1, x2)))\n",
        "    dy_dx2 = 3. * sigma(f(x1, x2)) * (1 - sigma(f(x1, x2)))\n",
        "    return float(dy_dx1), float(dy_dx2)\n",
        "\n",
        "def F_prime_tf(x1, x2):\n",
        "    with tf.GradientTape() as tape:\n",
        "        y = F(x1, x2)\n",
        "\n",
        "    dy_dx1, dy_dx2 = tape.gradient(y, [x1, x2])\n",
        "    return float(dy_dx1), float(dy_dx2)\n",
        "\n",
        "x1 = tf.Variable(-2.)\n",
        "x2 = tf.Variable(1.)\n",
        "\n",
        "print(F_prime(x1, x2))\n",
        "print(F_prime_tf(x1, x2))\n"
      ]
    },
    {
      "cell_type": "code",
      "source": [
        "import tensorflow as tf\n",
        "import numpy as np\n",
        "def sin(x):\n",
        "    return sin(x)\n",
        "\n",
        "def f(x1, x2):\n",
        "    return tf.square(x1) + 2. * x2\n",
        "\n",
        "def F(x1, x2):\n",
        "    return tf.math.sin(f(x1, x2))\n",
        "\n",
        "def F_prime(x1, x2):\n",
        "    dy_dx1 = 2. * x1 * tf.math.cos(f(x1, x2))\n",
        "    dy_dx2 = 2. * tf.math.cos(f(x1, x2))\n",
        "    return float(dy_dx1), float(dy_dx2)\n",
        "\n",
        "def F_prime_tf(x1, x2):\n",
        "    with tf.GradientTape() as tape:\n",
        "        y = F(x1, x2)\n",
        "\n",
        "    dy_dx1, dy_dx2 = tape.gradient(y, [x1, x2])\n",
        "    return float(dy_dx1), float(dy_dx2)\n",
        "\n",
        "x1 = tf.Variable(-2.)\n",
        "x2 = tf.Variable(1.)\n",
        "\n",
        "print(F_prime(x1, x2))\n",
        "print(F_prime_tf(x1, x2))"
      ],
      "metadata": {
        "colab": {
          "base_uri": "https://localhost:8080/"
        },
        "id": "tWT9zGlcQvPt",
        "outputId": "18d1f212-ba52-4f11-b309-38f481058fd5"
      },
      "execution_count": 3,
      "outputs": [
        {
          "output_type": "stream",
          "name": "stdout",
          "text": [
            "(-3.8406810760498047, 1.9203405380249023)\n",
            "(-3.8406810760498047, 1.9203405380249023)\n"
          ]
        }
      ]
    },
    {
      "cell_type": "markdown",
      "metadata": {
        "id": "K2blfVw63njf"
      },
      "source": [
        "## Task 3\n",
        "\n",
        "1.\n",
        "1. Modify the perceptron implementation from Lab 1 to use the sigmoid activation function.\n",
        "2. Modify the perceptron implementation below to use `GradientTape` instead of manually derived formulas to calculate gradients."
      ]
    },
    {
      "cell_type": "code",
      "execution_count": null,
      "metadata": {
        "id": "eQdJM9wA3njf"
      },
      "outputs": [],
      "source": [
        "import numpy as np\n",
        "import tensorflow as tf\n",
        "\n",
        "def sigma(z):\n",
        "    return 1. / (1. + tf.exp(-z))\n",
        "\n",
        "class Perceptron:\n",
        "    def __init__(self, learning_rate=0.01, epochs=100):\n",
        "        self.learning_rate = learning_rate\n",
        "        self.epochs = epochs\n",
        "\n",
        "    def predict(self, X):\n",
        "        Z = tf.linalg.matvec(X, self.weights) + self.bias\n",
        "        return sigma(Z)\n",
        "\n",
        "    def fit(self, X, y):\n",
        "        self.weights = tf.Variable(np.random.rand(X.shape[1]), dtype=tf.float32)\n",
        "        self.bias = tf.Variable(np.random.rand(), dtype=tf.float32)\n",
        "\n",
        "        X = tf.constant(X, dtype=tf.float32)\n",
        "\n",
        "        for _ in range(self.epochs):\n",
        "            y_pred = self.predict(X)\n",
        "            loss = tf.reduce_sum(tf.square(y - y_pred))\n",
        "\n",
        "            w_gradient = -tf.linalg.matvec(tf.transpose(X), (y - y_pred) * y_pred * (1. - y_pred))\n",
        "            b_gradient = -tf.reduce_sum((y - y_pred) * y_pred * (1. - y_pred))\n",
        "\n",
        "            self.weights.assign_sub(self.learning_rate * w_gradient)\n",
        "            self.bias.assign_sub(self.learning_rate * b_gradient)"
      ]
    },
    {
      "cell_type": "code",
      "execution_count": null,
      "metadata": {
        "id": "hLuZ3D643njf",
        "outputId": "69f0a223-11b1-4afb-a92e-686be5bc7000"
      },
      "outputs": [
        {
          "name": "stdout",
          "output_type": "stream",
          "text": [
            "0.9859402460456942\n"
          ]
        }
      ],
      "source": [
        "from sklearn.datasets import load_breast_cancer\n",
        "from sklearn.preprocessing import scale\n",
        "\n",
        "X, y = load_breast_cancer(return_X_y=True)\n",
        "X = scale(X)\n",
        "\n",
        "X = tf.constant(X, dtype=tf.float32)\n",
        "\n",
        "perceptron = Perceptron(learning_rate=0.01, epochs=100)\n",
        "perceptron.fit(X, y)\n",
        "y_pred = perceptron.predict(X) >= 0.5\n",
        "print(np.mean(y_pred == y))"
      ]
    }
  ],
  "metadata": {
    "kernelspec": {
      "display_name": "base",
      "language": "python",
      "name": "python3"
    },
    "language_info": {
      "codemirror_mode": {
        "name": "ipython",
        "version": 3
      },
      "file_extension": ".py",
      "mimetype": "text/x-python",
      "name": "python",
      "nbconvert_exporter": "python",
      "pygments_lexer": "ipython3",
      "version": "3.11.10"
    },
    "colab": {
      "provenance": [],
      "include_colab_link": true
    }
  },
  "nbformat": 4,
  "nbformat_minor": 0
}